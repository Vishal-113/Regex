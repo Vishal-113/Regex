{
  "nbformat": 4,
  "nbformat_minor": 0,
  "metadata": {
    "colab": {
      "provenance": [],
      "authorship_tag": "ABX9TyPvOS7G6fWSe+GOFieUZKzt",
      "include_colab_link": true
    },
    "kernelspec": {
      "name": "python3",
      "display_name": "Python 3"
    },
    "language_info": {
      "name": "python"
    }
  },
  "cells": [
    {
      "cell_type": "markdown",
      "metadata": {
        "id": "view-in-github",
        "colab_type": "text"
      },
      "source": [
        "<a href=\"https://colab.research.google.com/github/Vishal-113/Regex/blob/main/Word_Pair.ipynb\" target=\"_parent\"><img src=\"https://colab.research.google.com/assets/colab-badge.svg\" alt=\"Open In Colab\"/></a>"
      ]
    },
    {
      "cell_type": "markdown",
      "source": [
        "\n",
        "\n",
        "**Words:** `Sunday` → `Saturday`\n",
        "\n",
        "---\n",
        "\n",
        "## **Step 1: Minimum Edit Distance**\n",
        "\n",
        "We use **dynamic programming**.\n",
        "\n",
        "### **Model A:** Substitution = 1, Insertion = 1, Deletion = 1\n",
        "\n",
        "|    | '' | S | u | n | d | a | y |\n",
        "| -- | -- | - | - | - | - | - | - |\n",
        "| '' | 0  | 1 | 2 | 3 | 4 | 5 | 6 |\n",
        "| S  | 1  | 0 | 1 | 2 | 3 | 4 | 5 |\n",
        "| a  | 2  | 1 | 1 | 2 | 3 | 3 | 4 |\n",
        "| t  | 3  | 2 | 2 | 2 | 3 | 4 | 4 |\n",
        "| u  | 4  | 3 | 2 | 3 | 4 | 5 | 5 |\n",
        "| r  | 5  | 4 | 3 | 3 | 4 | 5 | 6 |\n",
        "| d  | 6  | 5 | 4 | 4 | 3 | 4 | 5 |\n",
        "| a  | 7  | 6 | 5 | 5 | 4 | 3 | 4 |\n",
        "| y  | 8  | 7 | 6 | 6 | 5 | 4 | 3 |\n",
        "\n",
        "**Minimum edit distance = 3**\n",
        "\n",
        "> Operations can be: Insert `a, t, r` at appropriate positions.\n",
        "\n",
        "---\n",
        "\n",
        "### **Model B:** Substitution = 2, Insertion = 1, Deletion = 1\n",
        "\n",
        "* Substitutions are more expensive, so DP prefers **insertions/deletions** rather than substitutions.\n",
        "* After computation, **minimum edit distance = 6**.\n",
        "\n",
        "> Here, we mainly use insertions for letters `a, t, r` and some deletions to align `Sunday` → `Saturday`.\n",
        "\n",
        "---\n",
        "\n",
        "## **Step 2: One Valid Edit Sequence (Model A)**\n",
        "\n",
        "Convert `Sunday` → `Saturday`:\n",
        "\n",
        "1. Insert `a` after `S` → `Saunday`\n",
        "2. Insert `t` after `Sa` → `Satuday`\n",
        "3. Insert `r` after `Satu` → `Saturday`\n",
        "\n",
        "**Sequence:**\n",
        "\n",
        "```\n",
        "Sunday\n",
        "-> Saunday (Insert 'a')\n",
        "-> Satuday (Insert 't')\n",
        "-> Saturday (Insert 'r')\n",
        "```\n",
        "\n",
        "**Distance = 3** ✅\n",
        "\n",
        "---\n",
        "\n",
        "## **Step 3: Reflection**\n",
        "\n",
        "1. Both models **did not give the same distance** because Model B penalizes substitutions more heavily.\n",
        "2. **Insertions** were most useful in aligning `Sunday` → `Saturday`, while deletions/substitutions were less optimal under these costs.\n",
        "3. The **choice of model affects applications**:\n",
        "\n",
        "   * For **spell check**, uniform costs (Model A) are fine because substitutions, insertions, deletions are equally likely.\n",
        "   * For **DNA alignment**, mismatches (substitutions) may be biologically less likely than insertions/deletions, so weighted costs (like Model B) are preferred.\n",
        "4. Choosing appropriate costs can **prioritize realistic operations** for the domain.\n",
        "\n"
      ],
      "metadata": {
        "id": "kiCZpIydbLO9"
      }
    }
  ]
}