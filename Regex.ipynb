{
  "nbformat": 4,
  "nbformat_minor": 0,
  "metadata": {
    "colab": {
      "provenance": [],
      "authorship_tag": "ABX9TyPU66cggx72yaUklKvV4wad",
      "include_colab_link": true
    },
    "kernelspec": {
      "name": "python3",
      "display_name": "Python 3"
    },
    "language_info": {
      "name": "python"
    }
  },
  "cells": [
    {
      "cell_type": "markdown",
      "metadata": {
        "id": "view-in-github",
        "colab_type": "text"
      },
      "source": [
        "<a href=\"https://colab.research.google.com/github/Vishal-113/Regex/blob/main/Regex.ipynb\" target=\"_parent\"><img src=\"https://colab.research.google.com/assets/colab-badge.svg\" alt=\"Open In Colab\"/></a>"
      ]
    },
    {
      "cell_type": "markdown",
      "source": [
        "\n",
        "\n",
        "---\n",
        "\n",
        "### **1. U.S. ZIP codes**\n",
        "\n",
        "**Regex:**\n",
        "\n",
        "```\n",
        "\\b\\d{5}(?:[- ]\\d{4})?\\b\n",
        "```\n",
        "\n",
        "**Explanation:** Matches U.S. ZIP codes that are either 5 digits long, or have a 4-digit extension separated by a hyphen or a space. Only matches complete tokens (not inside other words).\n",
        "\n",
        "* ✅ Matches: `12345`, `12345-6789`, `12345 6789`\n",
        "* ❌ Non-match: `abc12345def`\n",
        "\n",
        "---\n",
        "\n",
        "### **2. Words not starting with capital letter**\n",
        "\n",
        "**Regex:**\n",
        "\n",
        "```\n",
        "\\b(?![A-Z])[A-Za-z]+(?:['-][A-Za-z]+)*\\b\n",
        "```\n",
        "\n",
        "**Explanation:** Matches whole words that do **not** start with a capital letter. Words can include internal apostrophes or hyphens (e.g., contractions and compound words).\n",
        "\n",
        "* ✅ Matches: `don’t`, `state-of-the-art`, `hello`\n",
        "* ❌ Non-match: `London`\n",
        "\n",
        "---\n",
        "\n",
        "### **3. Numbers with sign, commas, decimals, scientific notation**\n",
        "\n",
        "**Regex:**\n",
        "\n",
        "```\n",
        "[+-]?(?:\\d{1,3}(?:,\\d{3})*|\\d+)(?:\\.\\d+)?(?:[eE][+-]?\\d+)?\n",
        "```\n",
        "\n",
        "**Explanation:** Matches integers or decimal numbers with optional sign (+/-), optional thousands separators (commas), optional decimal part, and optional scientific notation (like `1.23e-4`).\n",
        "\n",
        "* ✅ Matches: `123`, `-42`, `+1,234`, `1,234.56`, `1.23e-4`, `12e10`\n",
        "* ❌ Non-match: `1,23,456`\n",
        "\n",
        "---\n",
        "\n",
        "### **4. Variants of “email”**\n",
        "\n",
        "**Regex:**\n",
        "\n",
        "```\n",
        "(?i)\\be(?:[-– ]?)mail\\b\n",
        "```\n",
        "\n",
        "**Explanation:** Matches different spellings of “email”, allowing case-insensitivity and optional separator (hyphen, en-dash, or space).\n",
        "\n",
        "* ✅ Matches: `email`, `Email`, `e-mail`, `E mail`, `e–mail`\n",
        "* ❌ Non-match: `mymail`\n",
        "\n",
        "---\n",
        "\n",
        "### **5. Interjection “gooo…” with optional punctuation**\n",
        "\n",
        "**Regex:**\n",
        "\n",
        "```\n",
        "\\bgo+[\\!\\.\\,\\?]?\\b\n",
        "```\n",
        "\n",
        "**Explanation:** Matches the interjection “go” with one or more `o`s, optionally followed by one punctuation mark (! . , ?). Ensures it is a standalone word.\n",
        "\n",
        "* ✅ Matches: `go`, `goo`, `goooo!`, `gooooo?`\n",
        "* ❌ Non-match: `gopher`\n",
        "\n",
        "---\n",
        "\n",
        "### **6. Lines ending with question mark + optional closing symbols**\n",
        "\n",
        "**Regex:**\n",
        "\n",
        "```\n",
        "\\?[)\"'\\]\\s]*$\n",
        "```\n",
        "\n",
        "**Explanation:** Matches lines that end with a `?` followed only by closing quotes, brackets, or spaces.\n",
        "\n",
        "* ✅ Matches: `Is this true?`, `Is this true?\")`, `Really?  ” ]`\n",
        "* ❌ Non-match: `Really?!`\n",
        "\n",
        "---\n",
        "\n",
        "\n"
      ],
      "metadata": {
        "id": "RvszCjY7Me3V"
      }
    },
    {
      "cell_type": "markdown",
      "source": [],
      "metadata": {
        "id": "6LBGsXdcMqiT"
      }
    }
  ]
}